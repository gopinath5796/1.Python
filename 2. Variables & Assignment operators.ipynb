{
 "cells": [
  {
   "cell_type": "code",
   "execution_count": 1,
   "metadata": {},
   "outputs": [
    {
     "name": "stdout",
     "output_type": "stream",
     "text": [
      "Add:\n",
      "80\n",
      "Sub:\n",
      "40\n",
      "Mul:\n",
      "1200\n",
      "Div:\n",
      "3.0\n"
     ]
    }
   ],
   "source": [
    "Num1=60\n",
    "Num2=20\n",
    "Add=Num1+Num2\n",
    "Sub=Num1-Num2\n",
    "Mul=Num1*Num2\n",
    "Div=Num1/Num2\n",
    "print(\"Add:\")\n",
    "print(Add)\n",
    "print(\"Sub:\")\n",
    "print(Sub) \n",
    "print(\"Mul:\")\n",
    "print(Mul)\n",
    "print(\"Div:\")\n",
    "print(Div)"
   ]
  },
  {
   "cell_type": "code",
   "execution_count": 11,
   "metadata": {},
   "outputs": [
    {
     "name": "stdout",
     "output_type": "stream",
     "text": [
      "Personal Details:\n",
      "Gopinath\n",
      "Ponnusamy\n",
      "27\n",
      "Male\n",
      "Komarapalayam, Namakkal District\n"
     ]
    }
   ],
   "source": [
    "print(\"Personal Details:\")\n",
    "First_Name=\"Gopinath\"\n",
    "lastName=\"Ponnusamy\"\n",
    "Age=27\n",
    "Gender=\"Male\"\n",
    "Location=\"Komarapalayam, Namakkal District\"\n",
    "print(First_Name)\n",
    "print(lastName)\n",
    "print(Age)\n",
    "print(Gender)\n",
    "print(Location)"
   ]
  },
  {
   "cell_type": "code",
   "execution_count": null,
   "metadata": {},
   "outputs": [],
   "source": []
  }
 ],
 "metadata": {
  "kernelspec": {
   "display_name": "Python 3",
   "language": "python",
   "name": "python3"
  },
  "language_info": {
   "codemirror_mode": {
    "name": "ipython",
    "version": 3
   },
   "file_extension": ".py",
   "mimetype": "text/x-python",
   "name": "python",
   "nbconvert_exporter": "python",
   "pygments_lexer": "ipython3",
   "version": "3.7.4"
  }
 },
 "nbformat": 4,
 "nbformat_minor": 2
}
