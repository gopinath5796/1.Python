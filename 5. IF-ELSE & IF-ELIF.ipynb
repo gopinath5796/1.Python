{
 "cells": [
  {
   "cell_type": "code",
   "execution_count": 17,
   "metadata": {},
   "outputs": [
    {
     "name": "stdout",
     "output_type": "stream",
     "text": [
      "Enter Your Age:20\n",
      "Adult\n"
     ]
    }
   ],
   "source": [
    "Age=int(input(\"Enter Your Age:\"))\n",
    "if(Age>=18):\n",
    "    print(\"Adult\")\n",
    "else:\n",
    "        Print(\"Minor\")"
   ]
  },
  {
   "cell_type": "code",
   "execution_count": 16,
   "metadata": {},
   "outputs": [
    {
     "name": "stdout",
     "output_type": "stream",
     "text": [
      "Enter Your Age:15\n",
      "Minor\n"
     ]
    }
   ],
   "source": [
    "Age=int(input(\"Enter Your Age:\"))\n",
    "if(Age>=18):\n",
    "    print(\"Adult\")\n",
    "else:\n",
    "    print(\"Minor\")"
   ]
  },
  {
   "cell_type": "code",
   "execution_count": 24,
   "metadata": {
    "scrolled": true
   },
   "outputs": [
    {
     "name": "stdout",
     "output_type": "stream",
     "text": [
      "Enter Your Age:0\n",
      "children\n"
     ]
    }
   ],
   "source": [
    "Age=int(input(\"Enter Your Age:\"))\n",
    "if(Age<18):\n",
    "    print(\"children\")\n",
    "elif(Age<35):\n",
    "    print(\"Adult\")\n",
    "elif(Age<59):\n",
    "    print(\"Citizen\")\n",
    "else:\n",
    "    print(\"Senior Citizen\")"
   ]
  },
  {
   "cell_type": "code",
   "execution_count": 29,
   "metadata": {},
   "outputs": [
    {
     "name": "stdout",
     "output_type": "stream",
     "text": [
      "Age Group Classification (Finder):\n",
      "Enter Your Age:30\n",
      "Adults\n",
      "Middle Aged Adults\n"
     ]
    }
   ],
   "source": [
    "print(\"Age Group Classification (Finder):\")\n",
    "Age=int(input(\"Enter Your Age:\"))\n",
    "if(Age<=2):\n",
    "    print(\"Infant\")\n",
    "elif(Age<=12):\n",
    "    print(\"children\")\n",
    "elif(Age<=17):\n",
    "    print(\"Adolescents\")\n",
    "elif(Age<=39):\n",
    "    print(\"Adults\")\n",
    "    print(\"Middle Aged Adults\")\n",
    "elif(Age<=99):\n",
    "     print(\"Older Aged Adults\")\n",
    "else:\n",
    "    print(\"Enter value is Invalid\")"
   ]
  },
  {
   "cell_type": "code",
   "execution_count": 30,
   "metadata": {},
   "outputs": [
    {
     "name": "stdout",
     "output_type": "stream",
     "text": [
      "Age Group Classification (Finder):\n",
      "Enter Your Age:50\n",
      "Middle Aged Adults\n"
     ]
    }
   ],
   "source": [
    "#IF - ELIF (AND Operation)\n",
    "print(\"Age Group Classification (Finder):\")\n",
    "Age=int(input(\"Enter Your Age:\"))\n",
    "if(Age>=0 and Age<=2):\n",
    "    print(\"Infant\")\n",
    "elif(Age>=3 and Age<=12):\n",
    "    print(\"children\")\n",
    "elif(Age>=13 and Age<=17):\n",
    "    print(\"Adolescents\")\n",
    "elif(Age>=18 and Age<=39):\n",
    "    print(\"Adults\")\n",
    "elif(Age>=40 and Age<=59):\n",
    "    print(\"Middle Aged Adults\")\n",
    "elif(Age>=60 and Age<=99):\n",
    "     print(\"Older Aged Adults\")\n",
    "else:\n",
    "    print(\"Enter value is Invalid\")"
   ]
  },
  {
   "cell_type": "code",
   "execution_count": null,
   "metadata": {},
   "outputs": [],
   "source": []
  }
 ],
 "metadata": {
  "kernelspec": {
   "display_name": "Python 3",
   "language": "python",
   "name": "python3"
  },
  "language_info": {
   "codemirror_mode": {
    "name": "ipython",
    "version": 3
   },
   "file_extension": ".py",
   "mimetype": "text/x-python",
   "name": "python",
   "nbconvert_exporter": "python",
   "pygments_lexer": "ipython3",
   "version": "3.7.4"
  }
 },
 "nbformat": 4,
 "nbformat_minor": 2
}
