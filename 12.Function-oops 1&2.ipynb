{
 "cells": [
  {
   "cell_type": "code",
   "execution_count": 1,
   "metadata": {},
   "outputs": [
    {
     "name": "stdout",
     "output_type": "stream",
     "text": [
      "Children\n",
      "Adults\n",
      "Citizen\n",
      "Citizen\n",
      "Senior Citizen\n",
      "Adults\n",
      "Adults\n"
     ]
    }
   ],
   "source": [
    "lists=(11,20,35,45,65,18,25)\n",
    "def AgeCategory():\n",
    "    for age in lists:\n",
    "        if(age<18):\n",
    "            print(\"Children\")\n",
    "        elif(age<35):\n",
    "            print(\"Adults\")\n",
    "        elif(age<59):\n",
    "            print(\"Citizen\")\n",
    "        else:\n",
    "            print(\"Senior Citizen\")\n",
    "AgeCategory()"
   ]
  },
  {
   "cell_type": "code",
   "execution_count": 2,
   "metadata": {},
   "outputs": [
    {
     "name": "stdout",
     "output_type": "stream",
     "text": [
      "Enter the Age:25\n",
      "Adults\n"
     ]
    },
    {
     "data": {
      "text/plain": [
       "'Adults'"
      ]
     },
     "execution_count": 2,
     "metadata": {},
     "output_type": "execute_result"
    }
   ],
   "source": [
    "age=(int(input(\"Enter the Age:\")))\n",
    "def Agecriteria():\n",
    "    if(age<18):\n",
    "        print(\"Children\")\n",
    "        cate=\"Children\"\n",
    "    elif(age<35):\n",
    "        print(\"Adults\")\n",
    "        cate=\"Adults\"\n",
    "    elif(age<59):\n",
    "        print(\"Citizen\")\n",
    "        cate=\"Citizen\"\n",
    "    else:\n",
    "        print(\"Senior Citizen\")\n",
    "        cate=\"Senior Citizen\"\n",
    "    return cate\n",
    "Agecriteria()"
   ]
  },
  {
   "cell_type": "code",
   "execution_count": 8,
   "metadata": {},
   "outputs": [
    {
     "name": "stdout",
     "output_type": "stream",
     "text": [
      "Enter the Age:25\n",
      "Adults\n"
     ]
    }
   ],
   "source": [
    "age=(int(input(\"Enter the Age:\")))\n",
    "def Agecriteria():\n",
    "    if(age<18):\n",
    "        print(\"Children\")\n",
    "        cate=\"Children\"\n",
    "    elif(age<35):\n",
    "        print(\"Adults\")\n",
    "        cate=\"Adults\"\n",
    "    elif(age<59):\n",
    "        print(\"Citizen\")\n",
    "        cate=\"Citizen\"\n",
    "    else:\n",
    "        print(\"Senior Citizen\")\n",
    "        cate=\"Senior Citizen\"\n",
    "    return cate\n",
    "Agecri=Agecriteria()"
   ]
  },
  {
   "cell_type": "code",
   "execution_count": 9,
   "metadata": {},
   "outputs": [
    {
     "name": "stdout",
     "output_type": "stream",
     "text": [
      "Adults\n"
     ]
    }
   ],
   "source": [
    "print(Agecri)"
   ]
  },
  {
   "cell_type": "code",
   "execution_count": null,
   "metadata": {},
   "outputs": [],
   "source": []
  },
  {
   "cell_type": "code",
   "execution_count": null,
   "metadata": {},
   "outputs": [],
   "source": []
  },
  {
   "cell_type": "code",
   "execution_count": null,
   "metadata": {},
   "outputs": [],
   "source": []
  }
 ],
 "metadata": {
  "kernelspec": {
   "display_name": "Python 3",
   "language": "python",
   "name": "python3"
  },
  "language_info": {
   "codemirror_mode": {
    "name": "ipython",
    "version": 3
   },
   "file_extension": ".py",
   "mimetype": "text/x-python",
   "name": "python",
   "nbconvert_exporter": "python",
   "pygments_lexer": "ipython3",
   "version": "3.7.4"
  }
 },
 "nbformat": 4,
 "nbformat_minor": 2
}
