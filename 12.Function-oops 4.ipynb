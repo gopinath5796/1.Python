{
 "cells": [
  {
   "cell_type": "code",
   "execution_count": 8,
   "metadata": {},
   "outputs": [
    {
     "name": "stdout",
     "output_type": "stream",
     "text": [
      "Enter the number:51\n",
      "odd number\n"
     ]
    }
   ],
   "source": [
    "def oddeven():\n",
    "    Num=int(input(\"Enter the number:\"))\n",
    "    if((Num%2)==1):\n",
    "        print(\"odd number\")\n",
    "        msg=\"odd number\"\n",
    "    else:\n",
    "        print(\"Even number\")\n",
    "        msg=\"Even number\"\n",
    "    return msg\n",
    "message=oddeven()"
   ]
  },
  {
   "cell_type": "code",
   "execution_count": 9,
   "metadata": {},
   "outputs": [
    {
     "name": "stdout",
     "output_type": "stream",
     "text": [
      "The given number is ODD\n"
     ]
    }
   ],
   "source": [
    "if(message==\"Even number\"):\n",
    "    print(\"The given number is EVEN\")\n",
    "else:\n",
    "    print(\"The given number is ODD\")"
   ]
  },
  {
   "cell_type": "code",
   "execution_count": null,
   "metadata": {},
   "outputs": [],
   "source": []
  }
 ],
 "metadata": {
  "kernelspec": {
   "display_name": "Python 3",
   "language": "python",
   "name": "python3"
  },
  "language_info": {
   "codemirror_mode": {
    "name": "ipython",
    "version": 3
   },
   "file_extension": ".py",
   "mimetype": "text/x-python",
   "name": "python",
   "nbconvert_exporter": "python",
   "pygments_lexer": "ipython3",
   "version": "3.7.4"
  }
 },
 "nbformat": 4,
 "nbformat_minor": 2
}
