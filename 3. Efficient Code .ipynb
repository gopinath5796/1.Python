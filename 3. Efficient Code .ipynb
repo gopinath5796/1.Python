{
 "cells": [
  {
   "cell_type": "code",
   "execution_count": 4,
   "metadata": {},
   "outputs": [
    {
     "name": "stdout",
     "output_type": "stream",
     "text": [
      "The addition of two numbers\n",
      "The number 1: 10\n",
      "The number 2: 20\n",
      "The Answer is: 30\n"
     ]
    }
   ],
   "source": [
    "print(\"The addition of two numbers\")\n",
    "Num1=10\n",
    "Num2=20\n",
    "Add=Num1+Num2\n",
    "print(\"The number 1:\",Num1)\n",
    "print(\"The number 2:\",Num2)\n",
    "print(\"The Answer is:\",Add)"
   ]
  },
  {
   "cell_type": "code",
   "execution_count": 6,
   "metadata": {},
   "outputs": [
    {
     "name": "stdout",
     "output_type": "stream",
     "text": [
      "Personal Details:\n",
      "First_Name: Gopinath\n",
      "Last_Name: Ponnusamy\n",
      "Age: 27\n",
      "Gender: Male\n",
      "Location: Komarapalayam, Namakkal District\n"
     ]
    }
   ],
   "source": [
    "print(\"Personal Details:\")\n",
    "FN=\"Gopinath\"\n",
    "LN=\"Ponnusamy\"\n",
    "AG=27\n",
    "GEN=\"Male\"\n",
    "LOC=\"Komarapalayam, Namakkal District\"\n",
    "print(\"First_Name:\",FN)\n",
    "print(\"Last_Name:\",LN)\n",
    "print(\"Age:\",AG)\n",
    "print(\"Gender:\",GEN)\n",
    "print(\"Location:\",LOC)"
   ]
  },
  {
   "cell_type": "code",
   "execution_count": null,
   "metadata": {},
   "outputs": [],
   "source": []
  }
 ],
 "metadata": {
  "kernelspec": {
   "display_name": "Python 3",
   "language": "python",
   "name": "python3"
  },
  "language_info": {
   "codemirror_mode": {
    "name": "ipython",
    "version": 3
   },
   "file_extension": ".py",
   "mimetype": "text/x-python",
   "name": "python",
   "nbconvert_exporter": "python",
   "pygments_lexer": "ipython3",
   "version": "3.7.4"
  }
 },
 "nbformat": 4,
 "nbformat_minor": 2
}
