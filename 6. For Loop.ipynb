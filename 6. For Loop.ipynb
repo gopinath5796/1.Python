{
 "cells": [
  {
   "cell_type": "code",
   "execution_count": 1,
   "metadata": {},
   "outputs": [
    {
     "name": "stdout",
     "output_type": "stream",
     "text": [
      "11\n",
      "12\n",
      "13\n",
      "14\n",
      "15\n",
      "16\n"
     ]
    }
   ],
   "source": [
    "#for loop\n",
    "list=[11,12,13,14,15,16]\n",
    "for temp in list:\n",
    "    print(temp)"
   ]
  },
  {
   "cell_type": "code",
   "execution_count": 22,
   "metadata": {},
   "outputs": [
    {
     "name": "stdout",
     "output_type": "stream",
     "text": [
      "Infant\n",
      "Adults\n",
      "Adolescents\n",
      "Adults\n",
      "Adults\n",
      "Older Aged Adults\n",
      "Middle Aged Adults\n",
      "Entered value is Invalid\n"
     ]
    }
   ],
   "source": [
    "List=[1,18,12,17,30,75,45,100]\n",
    "for Age in List:\n",
    "    if(Age<2):\n",
    "        print(\"Infant\")\n",
    "    elif(Age<12):\n",
    "        print(\"children\")\n",
    "    elif(Age<17):\n",
    "        print(\"Adolescents\")\n",
    "    elif(Age<39):\n",
    "        print(\"Adults\")\n",
    "    elif(Age<59):\n",
    "        print(\"Middle Aged Adults\")\n",
    "    elif(Age<99):\n",
    "        print(\"Older Aged Adults\")\n",
    "    else:\n",
    "        print(\"Entered value is Invalid\")\n",
    "   "
   ]
  },
  {
   "cell_type": "code",
   "execution_count": null,
   "metadata": {},
   "outputs": [],
   "source": []
  },
  {
   "cell_type": "code",
   "execution_count": null,
   "metadata": {},
   "outputs": [],
   "source": []
  }
 ],
 "metadata": {
  "kernelspec": {
   "display_name": "Python 3",
   "language": "python",
   "name": "python3"
  },
  "language_info": {
   "codemirror_mode": {
    "name": "ipython",
    "version": 3
   },
   "file_extension": ".py",
   "mimetype": "text/x-python",
   "name": "python",
   "nbconvert_exporter": "python",
   "pygments_lexer": "ipython3",
   "version": "3.7.4"
  }
 },
 "nbformat": 4,
 "nbformat_minor": 2
}
