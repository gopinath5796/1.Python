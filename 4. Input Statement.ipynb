{
 "cells": [
  {
   "cell_type": "code",
   "execution_count": 1,
   "metadata": {},
   "outputs": [
    {
     "name": "stdout",
     "output_type": "stream",
     "text": [
      "Calculator:\n",
      "Addition:\n",
      "Enter the number 1: 50\n",
      "Enter the number 2: 25\n",
      "The answer is: 75\n",
      "Subtraction:\n",
      "Enter the number 1: 25\n",
      "Enter the number 2: 10\n",
      "The answer is: 15\n",
      "Multiplication:\n",
      "Enter the number 1: 25\n",
      "Enter the number 2: 4\n",
      "The answer is: 100\n",
      "Division:\n",
      "Enter the number 1: 100\n",
      "Enter the number 2: 20\n",
      "The answer is: 5.0\n"
     ]
    }
   ],
   "source": [
    "print(\"Calculator:\")\n",
    "print(\"Addition:\")\n",
    "Num1=int(input(\"Enter the number 1: \"))\n",
    "Num2=int(input(\"Enter the number 2: \"))\n",
    "Add=Num1+Num2\n",
    "print(\"The answer is:\",Add)\n",
    "print(\"Subtraction:\")\n",
    "Num1=int(input(\"Enter the number 1: \"))\n",
    "Num2=int(input(\"Enter the number 2: \"))\n",
    "Sub=Num1-Num2\n",
    "print(\"The answer is:\",Sub)\n",
    "print(\"Multiplication:\")\n",
    "Num1=int(input(\"Enter the number 1: \"))\n",
    "Num2=int(input(\"Enter the number 2: \"))\n",
    "Mul=Num1*Num2\n",
    "print(\"The answer is:\",Mul)\n",
    "print(\"Division:\")\n",
    "Num1=int(input(\"Enter the number 1: \"))\n",
    "Num2=int(input(\"Enter the number 2: \"))\n",
    "Div=Num1/Num2\n",
    "print(\"The answer is:\",Div)"
   ]
  },
  {
   "cell_type": "code",
   "execution_count": null,
   "metadata": {},
   "outputs": [],
   "source": []
  }
 ],
 "metadata": {
  "kernelspec": {
   "display_name": "Python 3",
   "language": "python",
   "name": "python3"
  },
  "language_info": {
   "codemirror_mode": {
    "name": "ipython",
    "version": 3
   },
   "file_extension": ".py",
   "mimetype": "text/x-python",
   "name": "python",
   "nbconvert_exporter": "python",
   "pygments_lexer": "ipython3",
   "version": "3.7.4"
  }
 },
 "nbformat": 4,
 "nbformat_minor": 2
}
