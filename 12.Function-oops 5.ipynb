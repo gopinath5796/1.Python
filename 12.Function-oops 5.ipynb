{
 "cells": [
  {
   "cell_type": "code",
   "execution_count": null,
   "metadata": {},
   "outputs": [],
   "source": [
    "Value=int(input(\"Enter the BMI Index :\"))\n",
    "def BMI():\n",
    "if(Value<18.5):\n",
    "    print(\"Under Weight\")\n",
    "    msg=\"Under Weight\"\n",
    "elif(Value<24.9):\n",
    "    print(\"Normal\")\n",
    "    msg=\"Normal\"\n",
    "elif(Value<29.9):\n",
    "    print(\"Over Weight\")\n",
    "    msg=\"Over Weight\"\n",
    "elif(Value<39.9):\n",
    "    print(\"Obese\")\n",
    "    msg=\"Obese\"\n",
    "else:\n",
    "    print(\"Extremely Obese\")\n",
    "    msg=\"Extremely Obese\"\n",
    "return msg\n",
    "Message=BMI()"
   ]
  },
  {
   "cell_type": "code",
   "execution_count": 9,
   "metadata": {},
   "outputs": [
    {
     "name": "stdout",
     "output_type": "stream",
     "text": [
      "Enter the BMI Index :24\n",
      "Normal\n"
     ]
    }
   ],
   "source": [
    "def BMI():\n",
    "    Value=int(input(\"Enter the BMI Index :\"))\n",
    "    if(Value<18.5):\n",
    "        print(\"Under Weight\")\n",
    "        msg=\"Under Weight\"\n",
    "    elif(Value<24.9):\n",
    "        print(\"Normal\")\n",
    "        msg=\"Normal\"\n",
    "    elif(Value<29.9):\n",
    "        print(\"Over Weight\")\n",
    "        msg=\"Over Weight\"\n",
    "    elif(Value<39.9):\n",
    "        print(\"Obese\")\n",
    "        msg=\"Obese\"\n",
    "    else:\n",
    "        print(\"Extremely Obese\")\n",
    "        msg=\"Extremely Obese\"\n",
    "    return msg\n",
    "bmi=BMI()"
   ]
  },
  {
   "cell_type": "code",
   "execution_count": 10,
   "metadata": {},
   "outputs": [
    {
     "data": {
      "text/plain": [
       "'Normal'"
      ]
     },
     "execution_count": 10,
     "metadata": {},
     "output_type": "execute_result"
    }
   ],
   "source": [
    "bmi"
   ]
  },
  {
   "cell_type": "code",
   "execution_count": 11,
   "metadata": {},
   "outputs": [
    {
     "data": {
      "text/plain": [
       "11"
      ]
     },
     "execution_count": 11,
     "metadata": {},
     "output_type": "execute_result"
    }
   ],
   "source": [
    "def addition(Num1,Num2):\n",
    "    add=(Num1+Num2)\n",
    "    return add\n",
    "addition(5,6)"
   ]
  },
  {
   "cell_type": "code",
   "execution_count": 14,
   "metadata": {},
   "outputs": [
    {
     "data": {
      "text/plain": [
       "2"
      ]
     },
     "execution_count": 14,
     "metadata": {},
     "output_type": "execute_result"
    }
   ],
   "source": [
    "def subtraction(Num1,Num2):\n",
    "    sub=(Num1-Num2)\n",
    "    return sub\n",
    "subtraction(8,6)"
   ]
  },
  {
   "cell_type": "code",
   "execution_count": null,
   "metadata": {},
   "outputs": [],
   "source": []
  }
 ],
 "metadata": {
  "kernelspec": {
   "display_name": "Python 3",
   "language": "python",
   "name": "python3"
  },
  "language_info": {
   "codemirror_mode": {
    "name": "ipython",
    "version": 3
   },
   "file_extension": ".py",
   "mimetype": "text/x-python",
   "name": "python",
   "nbconvert_exporter": "python",
   "pygments_lexer": "ipython3",
   "version": "3.7.4"
  }
 },
 "nbformat": 4,
 "nbformat_minor": 2
}
