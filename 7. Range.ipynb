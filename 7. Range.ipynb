{
 "cells": [
  {
   "cell_type": "code",
   "execution_count": 1,
   "metadata": {},
   "outputs": [
    {
     "name": "stdout",
     "output_type": "stream",
     "text": [
      "1,2,3,4,5,6,7,8,9,10,"
     ]
    }
   ],
   "source": [
    "for temp in range(1,11):\n",
    "    print(temp,end=\",\")\n"
   ]
  },
  {
   "cell_type": "code",
   "execution_count": 3,
   "metadata": {},
   "outputs": [
    {
     "name": "stdout",
     "output_type": "stream",
     "text": [
      "1\n",
      "2\n",
      "3\n",
      "4\n",
      "5\n",
      "6\n",
      "7\n",
      "8\n",
      "9\n",
      "10\n"
     ]
    }
   ],
   "source": [
    "for temp in range(1,11):\n",
    "    print(temp)"
   ]
  },
  {
   "cell_type": "code",
   "execution_count": 1,
   "metadata": {},
   "outputs": [
    {
     "name": "stdout",
     "output_type": "stream",
     "text": [
      "Printing any no. of tables (Select :From & To Values):\n",
      "Enter the starting number :11\n",
      "Enter the ending  number :20\n",
      "Enter the number to be multiplied :12\n",
      "11 * 12 = 132\n",
      "12 * 12 = 144\n",
      "13 * 12 = 156\n",
      "14 * 12 = 168\n",
      "15 * 12 = 180\n",
      "16 * 12 = 192\n",
      "17 * 12 = 204\n",
      "18 * 12 = 216\n",
      "19 * 12 = 228\n",
      "20 * 12 = 240\n"
     ]
    }
   ],
   "source": [
    "print(\"Printing any no. of tables (Select :From & To Values):\")\n",
    "Num1=int(input(\"Enter the starting number :\"))\n",
    "Num2=int(input(\"Enter the ending  number :\"))\n",
    "Num3=int(input(\"Enter the number to be multiplied :\"))               \n",
    "for temp in range(Num1,Num2+1):\n",
    "    print(temp,\"*\",Num3,\"=\",temp*Num3)"
   ]
  },
  {
   "cell_type": "code",
   "execution_count": null,
   "metadata": {},
   "outputs": [],
   "source": []
  },
  {
   "cell_type": "code",
   "execution_count": null,
   "metadata": {},
   "outputs": [],
   "source": []
  }
 ],
 "metadata": {
  "kernelspec": {
   "display_name": "Python 3",
   "language": "python",
   "name": "python3"
  },
  "language_info": {
   "codemirror_mode": {
    "name": "ipython",
    "version": 3
   },
   "file_extension": ".py",
   "mimetype": "text/x-python",
   "name": "python",
   "nbconvert_exporter": "python",
   "pygments_lexer": "ipython3",
   "version": "3.7.4"
  }
 },
 "nbformat": 4,
 "nbformat_minor": 2
}
